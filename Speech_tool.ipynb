{
 "cells": [
  {
   "cell_type": "code",
   "execution_count": null,
   "id": "bc18d0b2",
   "metadata": {},
   "outputs": [
    {
     "name": "stdout",
     "output_type": "stream",
     "text": [
      "Unknown error occurred\n",
      "Listening...\n"
     ]
    }
   ],
   "source": [
    "# Python program to translate\n",
    "# speech to text and text to speech\n",
    "\n",
    "\n",
    "import speech_recognition as sr\n",
    "import pyttsx3 \n",
    "\n",
    "# Initialize the recognizer \n",
    "r = sr.Recognizer() \n",
    "\n",
    "# Function to convert text to\n",
    "# speech\n",
    "def SpeakText(command):\n",
    "    \n",
    "    # Initialize the engine\n",
    "    engine = pyttsx3.init()\n",
    "    engine.say(command) \n",
    "    engine.runAndWait()\n",
    "    \n",
    "    \n",
    "# Loop infinitely for user to\n",
    "# speak\n",
    "\n",
    "while True:    \n",
    "    \n",
    "    # Exception handling to handle\n",
    "    # exceptions at the runtime\n",
    "    try:\n",
    "        \n",
    "        # use the microphone as source for input.\n",
    "        with sr.Microphone() as source2:\n",
    "            print(\"Listening...\")\n",
    "            # wait for a second to let the recognizer\n",
    "            # adjust the energy threshold based on\n",
    "            # the surrounding noise level \n",
    "            r.adjust_for_ambient_noise(source2, duration=0.2)\n",
    "            \n",
    "            #listens for the user's input \n",
    "            audio2 = r.listen(source2)\n",
    "            \n",
    "            # Using google to recognize audio\n",
    "            MyText = r.recognize_google(audio2)\n",
    "            MyText = MyText.lower()\n",
    "\n",
    "            print(\"Did you say:\", MyText)\n",
    "            SpeakText(MyText)\n",
    "            \n",
    "    except sr.RequestError as e:\n",
    "        print(f\"Could not request results; {e}\")\n",
    "        \n",
    "    except sr.UnknownValueError:\n",
    "        print(\"Unknown error occurred\")"
   ]
  },
  {
   "cell_type": "code",
   "execution_count": null,
   "id": "722790d8",
   "metadata": {},
   "outputs": [],
   "source": []
  }
 ],
 "metadata": {
  "kernelspec": {
   "display_name": "base",
   "language": "python",
   "name": "python3"
  },
  "language_info": {
   "codemirror_mode": {
    "name": "ipython",
    "version": 3
   },
   "file_extension": ".py",
   "mimetype": "text/x-python",
   "name": "python",
   "nbconvert_exporter": "python",
   "pygments_lexer": "ipython3",
   "version": "3.9.13"
  }
 },
 "nbformat": 4,
 "nbformat_minor": 5
}
